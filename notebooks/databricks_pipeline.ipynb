{
 "cells": [
  {
   "cell_type": "code",
   "execution_count": null,
   "id": "92061712",
   "metadata": {},
   "outputs": [],
   "source": [
    "# Een simpele Python playground om mee te klooien\n",
    "\n",
    "# Maak een lijst van getallen\n",
    "getallen = [1, 2, 3, 4, 5]\n",
    "\n",
    "# Print het kwadraat van elk getal\n",
    "kwadraten = [x**2 for x in getallen]\n",
    "print(\"Kwadraten:\", kwadraten)\n",
    "\n",
    "# Voeg een getal toe\n",
    "getallen.append(6)\n",
    "print(\"Nieuwe lijst:\", getallen)\n",
    "\n",
    "# Filter alleen even getallen\n",
    "even_getallen = [x for x in getallen if x % 2 == 0]\n",
    "print(\"Even getallen:\", even_getallen)"
   ]
  }
 ],
 "metadata": {
  "language_info": {
   "name": "python"
  }
 },
 "nbformat": 4,
 "nbformat_minor": 5
}
